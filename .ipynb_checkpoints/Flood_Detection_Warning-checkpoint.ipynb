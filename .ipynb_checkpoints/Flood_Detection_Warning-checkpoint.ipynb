{
 "cells": [
  {
   "cell_type": "markdown",
   "metadata": {
    "id": "hMYpmdhnFFox"
   },
   "source": [
    "TEAM MEMBERS:\n",
    "\n",
    "1) MOHAMMAD SYAMEER IMRAN BIN MOHD ASHROF (2015807)\n",
    "\n",
    "2) MUHAMMAD HARITH DANIAL BIN HARUN (1913029)\n",
    "\n",
    "\n",
    "\n"
   ]
  },
  {
   "cell_type": "markdown",
   "metadata": {
    "id": "DUmP79mpyucA"
   },
   "source": [
    "**INFO:**\n",
    "\n",
    "**LEVEL:** The distance between the sensor and the water surface. The lower the number, the closer is the gap.\n",
    "\n",
    "**INTENSITY:** The intensity of the rain during the sensor reading time. There are ***none(value 0), light(value 1), moderate(value 2), and heavy(value 3).***\n",
    "\n",
    "**STATUS:** The status of flooding, which are ***No(value 0) and Yes(value 1).***\n"
   ]
  },
  {
   "cell_type": "code",
   "execution_count": 1,
   "metadata": {
    "id": "V6a3qteuE7bW"
   },
   "outputs": [],
   "source": [
    "import sys\n",
    "import pandas as pd\n",
    "import numpy as np\n",
    "import keras, matplotlib, sklearn\n",
    "import matplotlib.pyplot as plt\n",
    "from keras.models import Sequential\n",
    "from keras.layers import Dense\n",
    "from sklearn import preprocessing, svm\n",
    "from sklearn.model_selection import train_test_split\n",
    "from sklearn.linear_model import LinearRegression"
   ]
  },
  {
   "cell_type": "code",
   "execution_count": 2,
   "metadata": {
    "colab": {
     "base_uri": "https://localhost:8080/",
     "height": 206
    },
    "id": "cBC2v-AmFSQF",
    "outputId": "ec09708e-cb9e-4d92-e160-a83256615e8d"
   },
   "outputs": [
    {
     "data": {
      "text/html": [
       "<div>\n",
       "<style scoped>\n",
       "    .dataframe tbody tr th:only-of-type {\n",
       "        vertical-align: middle;\n",
       "    }\n",
       "\n",
       "    .dataframe tbody tr th {\n",
       "        vertical-align: top;\n",
       "    }\n",
       "\n",
       "    .dataframe thead th {\n",
       "        text-align: right;\n",
       "    }\n",
       "</style>\n",
       "<table border=\"1\" class=\"dataframe\">\n",
       "  <thead>\n",
       "    <tr style=\"text-align: right;\">\n",
       "      <th></th>\n",
       "      <th>created_at</th>\n",
       "      <th>entry_id</th>\n",
       "      <th>level</th>\n",
       "      <th>intensity</th>\n",
       "      <th>status</th>\n",
       "    </tr>\n",
       "  </thead>\n",
       "  <tbody>\n",
       "    <tr>\n",
       "      <th>0</th>\n",
       "      <td>2023-05-06 08:47:10 UTC</td>\n",
       "      <td>2</td>\n",
       "      <td>25.477</td>\n",
       "      <td>none</td>\n",
       "      <td>no</td>\n",
       "    </tr>\n",
       "    <tr>\n",
       "      <th>1</th>\n",
       "      <td>2023-05-09 06:49:51 UTC</td>\n",
       "      <td>3</td>\n",
       "      <td>25.477</td>\n",
       "      <td>none</td>\n",
       "      <td>no</td>\n",
       "    </tr>\n",
       "    <tr>\n",
       "      <th>2</th>\n",
       "      <td>2023-05-09 06:53:01 UTC</td>\n",
       "      <td>4</td>\n",
       "      <td>25.477</td>\n",
       "      <td>none</td>\n",
       "      <td>no</td>\n",
       "    </tr>\n",
       "    <tr>\n",
       "      <th>3</th>\n",
       "      <td>2023-05-09 06:56:41 UTC</td>\n",
       "      <td>5</td>\n",
       "      <td>25.477</td>\n",
       "      <td>none</td>\n",
       "      <td>no</td>\n",
       "    </tr>\n",
       "    <tr>\n",
       "      <th>4</th>\n",
       "      <td>2023-05-09 07:33:52 UTC</td>\n",
       "      <td>6</td>\n",
       "      <td>25.407</td>\n",
       "      <td>light</td>\n",
       "      <td>no</td>\n",
       "    </tr>\n",
       "  </tbody>\n",
       "</table>\n",
       "</div>"
      ],
      "text/plain": [
       "                created_at  entry_id   level intensity status\n",
       "0  2023-05-06 08:47:10 UTC         2  25.477      none     no\n",
       "1  2023-05-09 06:49:51 UTC         3  25.477      none     no\n",
       "2  2023-05-09 06:53:01 UTC         4  25.477      none     no\n",
       "3  2023-05-09 06:56:41 UTC         5  25.477      none     no\n",
       "4  2023-05-09 07:33:52 UTC         6  25.407     light     no"
      ]
     },
     "execution_count": 2,
     "metadata": {},
     "output_type": "execute_result"
    }
   ],
   "source": [
    "df = pd.read_csv(\"Data/Water Level Training Data.csv\")\n",
    "df.head()"
   ]
  },
  {
   "cell_type": "code",
   "execution_count": 3,
   "metadata": {
    "colab": {
     "base_uri": "https://localhost:8080/",
     "height": 206
    },
    "id": "b1QWyuC5HMVP",
    "outputId": "cf1abbd5-13e1-4abe-ccea-3ff526ce137e"
   },
   "outputs": [
    {
     "data": {
      "text/html": [
       "<div>\n",
       "<style scoped>\n",
       "    .dataframe tbody tr th:only-of-type {\n",
       "        vertical-align: middle;\n",
       "    }\n",
       "\n",
       "    .dataframe tbody tr th {\n",
       "        vertical-align: top;\n",
       "    }\n",
       "\n",
       "    .dataframe thead th {\n",
       "        text-align: right;\n",
       "    }\n",
       "</style>\n",
       "<table border=\"1\" class=\"dataframe\">\n",
       "  <thead>\n",
       "    <tr style=\"text-align: right;\">\n",
       "      <th></th>\n",
       "      <th>level</th>\n",
       "      <th>intensity</th>\n",
       "      <th>status</th>\n",
       "    </tr>\n",
       "  </thead>\n",
       "  <tbody>\n",
       "    <tr>\n",
       "      <th>0</th>\n",
       "      <td>25.477</td>\n",
       "      <td>none</td>\n",
       "      <td>no</td>\n",
       "    </tr>\n",
       "    <tr>\n",
       "      <th>1</th>\n",
       "      <td>25.477</td>\n",
       "      <td>none</td>\n",
       "      <td>no</td>\n",
       "    </tr>\n",
       "    <tr>\n",
       "      <th>2</th>\n",
       "      <td>25.477</td>\n",
       "      <td>none</td>\n",
       "      <td>no</td>\n",
       "    </tr>\n",
       "    <tr>\n",
       "      <th>3</th>\n",
       "      <td>25.477</td>\n",
       "      <td>none</td>\n",
       "      <td>no</td>\n",
       "    </tr>\n",
       "    <tr>\n",
       "      <th>4</th>\n",
       "      <td>25.407</td>\n",
       "      <td>light</td>\n",
       "      <td>no</td>\n",
       "    </tr>\n",
       "  </tbody>\n",
       "</table>\n",
       "</div>"
      ],
      "text/plain": [
       "    level intensity status\n",
       "0  25.477      none     no\n",
       "1  25.477      none     no\n",
       "2  25.477      none     no\n",
       "3  25.477      none     no\n",
       "4  25.407     light     no"
      ]
     },
     "execution_count": 3,
     "metadata": {},
     "output_type": "execute_result"
    }
   ],
   "source": [
    "interested_columns = ['level', 'intensity', 'status']\n",
    "df = df.loc[:, interested_columns]\n",
    "df.head()"
   ]
  },
  {
   "cell_type": "code",
   "execution_count": 4,
   "metadata": {
    "colab": {
     "base_uri": "https://localhost:8080/",
     "height": 206
    },
    "id": "sOF_exbWNebV",
    "outputId": "48053df4-1d1f-42ab-c0a8-ba426f896981"
   },
   "outputs": [
    {
     "data": {
      "text/html": [
       "<div>\n",
       "<style scoped>\n",
       "    .dataframe tbody tr th:only-of-type {\n",
       "        vertical-align: middle;\n",
       "    }\n",
       "\n",
       "    .dataframe tbody tr th {\n",
       "        vertical-align: top;\n",
       "    }\n",
       "\n",
       "    .dataframe thead th {\n",
       "        text-align: right;\n",
       "    }\n",
       "</style>\n",
       "<table border=\"1\" class=\"dataframe\">\n",
       "  <thead>\n",
       "    <tr style=\"text-align: right;\">\n",
       "      <th></th>\n",
       "      <th>level</th>\n",
       "      <th>intensity</th>\n",
       "      <th>status</th>\n",
       "    </tr>\n",
       "  </thead>\n",
       "  <tbody>\n",
       "    <tr>\n",
       "      <th>95</th>\n",
       "      <td>21.097</td>\n",
       "      <td>0</td>\n",
       "      <td>0</td>\n",
       "    </tr>\n",
       "    <tr>\n",
       "      <th>96</th>\n",
       "      <td>21.097</td>\n",
       "      <td>0</td>\n",
       "      <td>0</td>\n",
       "    </tr>\n",
       "    <tr>\n",
       "      <th>97</th>\n",
       "      <td>20.825</td>\n",
       "      <td>0</td>\n",
       "      <td>0</td>\n",
       "    </tr>\n",
       "    <tr>\n",
       "      <th>98</th>\n",
       "      <td>20.825</td>\n",
       "      <td>0</td>\n",
       "      <td>0</td>\n",
       "    </tr>\n",
       "    <tr>\n",
       "      <th>99</th>\n",
       "      <td>20.859</td>\n",
       "      <td>0</td>\n",
       "      <td>0</td>\n",
       "    </tr>\n",
       "  </tbody>\n",
       "</table>\n",
       "</div>"
      ],
      "text/plain": [
       "     level intensity status\n",
       "95  21.097         0      0\n",
       "96  21.097         0      0\n",
       "97  20.825         0      0\n",
       "98  20.825         0      0\n",
       "99  20.859         0      0"
      ]
     },
     "execution_count": 4,
     "metadata": {},
     "output_type": "execute_result"
    }
   ],
   "source": [
    "# For intensity\n",
    "df.replace('none','0', inplace=True)\n",
    "df.replace('light','1', inplace=True)\n",
    "df.replace('moderate','2', inplace=True)\n",
    "df.replace('heavy','3', inplace=True)\n",
    "\n",
    "# For status\n",
    "df.replace('no', '0', inplace=True)\n",
    "df.replace('yes','1', inplace=True)\n",
    "\n",
    "df.tail()"
   ]
  },
  {
   "cell_type": "code",
   "execution_count": 5,
   "metadata": {
    "colab": {
     "base_uri": "https://localhost:8080/"
    },
    "id": "27Ii9UHrec8H",
    "outputId": "0d7c6ebb-680e-49f4-cda3-da9f0ea7bdfd"
   },
   "outputs": [
    {
     "name": "stdout",
     "output_type": "stream",
     "text": [
      "(75, 2) (25, 2) (75, 1) (25, 1)\n"
     ]
    }
   ],
   "source": [
    "# Sequential Regression\n",
    "\n",
    "input = df.loc[:, ['level', 'intensity']]\n",
    "output = df.loc[:, ['status']]\n",
    "X = np.asarray(input).astype('float32')\n",
    "y = np.asarray(output).astype('float32')\n",
    "\n",
    "X_train, X_test, y_train, y_test = train_test_split(X, y, random_state=0, train_size = .75)\n",
    "print(X_train.shape, X_test.shape, y_train.shape, y_test.shape)"
   ]
  },
  {
   "cell_type": "code",
   "execution_count": 16,
   "metadata": {
    "colab": {
     "base_uri": "https://localhost:8080/"
    },
    "id": "6F17hhSDwoEC",
    "outputId": "32006c0c-0e5e-462d-876e-c8721d61e941"
   },
   "outputs": [
    {
     "name": "stdout",
     "output_type": "stream",
     "text": [
      "Epoch 1/120\n",
      "8/8 [==============================] - 1s 2ms/step - loss: 0.2076\n",
      "Epoch 2/120\n",
      "8/8 [==============================] - 0s 3ms/step - loss: 0.2007\n",
      "Epoch 3/120\n",
      "8/8 [==============================] - 0s 3ms/step - loss: 0.1925\n",
      "Epoch 4/120\n",
      "8/8 [==============================] - 0s 3ms/step - loss: 0.1830\n",
      "Epoch 5/120\n",
      "8/8 [==============================] - 0s 2ms/step - loss: 0.1724\n",
      "Epoch 6/120\n",
      "8/8 [==============================] - 0s 2ms/step - loss: 0.1620\n",
      "Epoch 7/120\n",
      "8/8 [==============================] - 0s 2ms/step - loss: 0.1514\n",
      "Epoch 8/120\n",
      "8/8 [==============================] - 0s 2ms/step - loss: 0.1443\n",
      "Epoch 9/120\n",
      "8/8 [==============================] - 0s 3ms/step - loss: 0.1386\n",
      "Epoch 10/120\n",
      "8/8 [==============================] - 0s 2ms/step - loss: 0.1372\n",
      "Epoch 11/120\n",
      "8/8 [==============================] - 0s 3ms/step - loss: 0.1356\n",
      "Epoch 12/120\n",
      "8/8 [==============================] - 0s 2ms/step - loss: 0.1357\n",
      "Epoch 13/120\n",
      "8/8 [==============================] - 0s 2ms/step - loss: 0.1335\n",
      "Epoch 14/120\n",
      "8/8 [==============================] - 0s 2ms/step - loss: 0.1318\n",
      "Epoch 15/120\n",
      "8/8 [==============================] - 0s 2ms/step - loss: 0.1303\n",
      "Epoch 16/120\n",
      "8/8 [==============================] - 0s 2ms/step - loss: 0.1287\n",
      "Epoch 17/120\n",
      "8/8 [==============================] - 0s 2ms/step - loss: 0.1271\n",
      "Epoch 18/120\n",
      "8/8 [==============================] - 0s 2ms/step - loss: 0.1256\n",
      "Epoch 19/120\n",
      "8/8 [==============================] - 0s 2ms/step - loss: 0.1240\n",
      "Epoch 20/120\n",
      "8/8 [==============================] - 0s 2ms/step - loss: 0.1219\n",
      "Epoch 21/120\n",
      "8/8 [==============================] - 0s 2ms/step - loss: 0.1200\n",
      "Epoch 22/120\n",
      "8/8 [==============================] - 0s 2ms/step - loss: 0.1181\n",
      "Epoch 23/120\n",
      "8/8 [==============================] - 0s 2ms/step - loss: 0.1154\n",
      "Epoch 24/120\n",
      "8/8 [==============================] - 0s 2ms/step - loss: 0.1131\n",
      "Epoch 25/120\n",
      "8/8 [==============================] - 0s 2ms/step - loss: 0.1100\n",
      "Epoch 26/120\n",
      "8/8 [==============================] - 0s 2ms/step - loss: 0.1068\n",
      "Epoch 27/120\n",
      "8/8 [==============================] - 0s 2ms/step - loss: 0.1032\n",
      "Epoch 28/120\n",
      "8/8 [==============================] - 0s 2ms/step - loss: 0.0992\n",
      "Epoch 29/120\n",
      "8/8 [==============================] - 0s 2ms/step - loss: 0.0951\n",
      "Epoch 30/120\n",
      "8/8 [==============================] - 0s 2ms/step - loss: 0.0903\n",
      "Epoch 31/120\n",
      "8/8 [==============================] - 0s 2ms/step - loss: 0.0857\n",
      "Epoch 32/120\n",
      "8/8 [==============================] - 0s 2ms/step - loss: 0.0810\n",
      "Epoch 33/120\n",
      "8/8 [==============================] - 0s 2ms/step - loss: 0.0765\n",
      "Epoch 34/120\n",
      "8/8 [==============================] - 0s 2ms/step - loss: 0.0719\n",
      "Epoch 35/120\n",
      "8/8 [==============================] - 0s 2ms/step - loss: 0.0675\n",
      "Epoch 36/120\n",
      "8/8 [==============================] - 0s 2ms/step - loss: 0.0635\n",
      "Epoch 37/120\n",
      "8/8 [==============================] - 0s 2ms/step - loss: 0.0594\n",
      "Epoch 38/120\n",
      "8/8 [==============================] - 0s 2ms/step - loss: 0.0567\n",
      "Epoch 39/120\n",
      "8/8 [==============================] - 0s 2ms/step - loss: 0.0533\n",
      "Epoch 40/120\n",
      "8/8 [==============================] - 0s 2ms/step - loss: 0.0505\n",
      "Epoch 41/120\n",
      "8/8 [==============================] - 0s 2ms/step - loss: 0.0483\n",
      "Epoch 42/120\n",
      "8/8 [==============================] - 0s 2ms/step - loss: 0.0457\n",
      "Epoch 43/120\n",
      "8/8 [==============================] - 0s 2ms/step - loss: 0.0436\n",
      "Epoch 44/120\n",
      "8/8 [==============================] - 0s 2ms/step - loss: 0.0418\n",
      "Epoch 45/120\n",
      "8/8 [==============================] - 0s 2ms/step - loss: 0.0398\n",
      "Epoch 46/120\n",
      "8/8 [==============================] - 0s 2ms/step - loss: 0.0380\n",
      "Epoch 47/120\n",
      "8/8 [==============================] - 0s 2ms/step - loss: 0.0363\n",
      "Epoch 48/120\n",
      "8/8 [==============================] - 0s 2ms/step - loss: 0.0346\n",
      "Epoch 49/120\n",
      "8/8 [==============================] - 0s 6ms/step - loss: 0.0331\n",
      "Epoch 50/120\n",
      "8/8 [==============================] - 0s 2ms/step - loss: 0.0316\n",
      "Epoch 51/120\n",
      "8/8 [==============================] - 0s 2ms/step - loss: 0.0302\n",
      "Epoch 52/120\n",
      "8/8 [==============================] - 0s 2ms/step - loss: 0.0289\n",
      "Epoch 53/120\n",
      "8/8 [==============================] - 0s 2ms/step - loss: 0.0277\n",
      "Epoch 54/120\n",
      "8/8 [==============================] - 0s 2ms/step - loss: 0.0267\n",
      "Epoch 55/120\n",
      "8/8 [==============================] - 0s 2ms/step - loss: 0.0258\n",
      "Epoch 56/120\n",
      "8/8 [==============================] - 0s 2ms/step - loss: 0.0248\n",
      "Epoch 57/120\n",
      "8/8 [==============================] - 0s 2ms/step - loss: 0.0245\n",
      "Epoch 58/120\n",
      "8/8 [==============================] - 0s 2ms/step - loss: 0.0233\n",
      "Epoch 59/120\n",
      "8/8 [==============================] - 0s 2ms/step - loss: 0.0234\n",
      "Epoch 60/120\n",
      "8/8 [==============================] - 0s 2ms/step - loss: 0.0221\n",
      "Epoch 61/120\n",
      "8/8 [==============================] - 0s 2ms/step - loss: 0.0216\n",
      "Epoch 62/120\n",
      "8/8 [==============================] - 0s 2ms/step - loss: 0.0211\n",
      "Epoch 63/120\n",
      "8/8 [==============================] - 0s 2ms/step - loss: 0.0212\n",
      "Epoch 64/120\n",
      "8/8 [==============================] - 0s 2ms/step - loss: 0.0203\n",
      "Epoch 65/120\n",
      "8/8 [==============================] - 0s 2ms/step - loss: 0.0200\n",
      "Epoch 66/120\n",
      "8/8 [==============================] - 0s 2ms/step - loss: 0.0199\n",
      "Epoch 67/120\n",
      "8/8 [==============================] - 0s 2ms/step - loss: 0.0195\n",
      "Epoch 68/120\n",
      "8/8 [==============================] - 0s 2ms/step - loss: 0.0194\n",
      "Epoch 69/120\n",
      "8/8 [==============================] - 0s 2ms/step - loss: 0.0192\n",
      "Epoch 70/120\n",
      "8/8 [==============================] - 0s 2ms/step - loss: 0.0191\n",
      "Epoch 71/120\n",
      "8/8 [==============================] - 0s 2ms/step - loss: 0.0189\n",
      "Epoch 72/120\n",
      "8/8 [==============================] - 0s 2ms/step - loss: 0.0189\n",
      "Epoch 73/120\n",
      "8/8 [==============================] - 0s 2ms/step - loss: 0.0191\n",
      "Epoch 74/120\n",
      "8/8 [==============================] - 0s 2ms/step - loss: 0.0187\n",
      "Epoch 75/120\n",
      "8/8 [==============================] - 0s 2ms/step - loss: 0.0186\n",
      "Epoch 76/120\n",
      "8/8 [==============================] - 0s 2ms/step - loss: 0.0186\n",
      "Epoch 77/120\n",
      "8/8 [==============================] - 0s 2ms/step - loss: 0.0189\n",
      "Epoch 78/120\n",
      "8/8 [==============================] - 0s 2ms/step - loss: 0.0196\n",
      "Epoch 79/120\n",
      "8/8 [==============================] - 0s 2ms/step - loss: 0.0187\n",
      "Epoch 80/120\n",
      "8/8 [==============================] - 0s 2ms/step - loss: 0.0185\n",
      "Epoch 81/120\n",
      "8/8 [==============================] - 0s 2ms/step - loss: 0.0185\n",
      "Epoch 82/120\n",
      "8/8 [==============================] - 0s 2ms/step - loss: 0.0189\n",
      "Epoch 83/120\n",
      "8/8 [==============================] - 0s 2ms/step - loss: 0.0185\n",
      "Epoch 84/120\n",
      "8/8 [==============================] - 0s 2ms/step - loss: 0.0184\n",
      "Epoch 85/120\n",
      "8/8 [==============================] - 0s 2ms/step - loss: 0.0184\n",
      "Epoch 86/120\n",
      "8/8 [==============================] - 0s 2ms/step - loss: 0.0184\n",
      "Epoch 87/120\n",
      "8/8 [==============================] - 0s 2ms/step - loss: 0.0186\n",
      "Epoch 88/120\n",
      "8/8 [==============================] - 0s 2ms/step - loss: 0.0184\n",
      "Epoch 89/120\n",
      "8/8 [==============================] - 0s 2ms/step - loss: 0.0184\n",
      "Epoch 90/120\n",
      "8/8 [==============================] - 0s 2ms/step - loss: 0.0183\n",
      "Epoch 91/120\n",
      "8/8 [==============================] - 0s 2ms/step - loss: 0.0185\n",
      "Epoch 92/120\n",
      "8/8 [==============================] - 0s 2ms/step - loss: 0.0183\n",
      "Epoch 93/120\n",
      "8/8 [==============================] - 0s 2ms/step - loss: 0.0183\n",
      "Epoch 94/120\n",
      "8/8 [==============================] - 0s 2ms/step - loss: 0.0185\n",
      "Epoch 95/120\n",
      "8/8 [==============================] - 0s 2ms/step - loss: 0.0183\n",
      "Epoch 96/120\n",
      "8/8 [==============================] - 0s 2ms/step - loss: 0.0184\n",
      "Epoch 97/120\n",
      "8/8 [==============================] - 0s 2ms/step - loss: 0.0182\n",
      "Epoch 98/120\n",
      "8/8 [==============================] - 0s 2ms/step - loss: 0.0185\n",
      "Epoch 99/120\n",
      "8/8 [==============================] - 0s 2ms/step - loss: 0.0184\n",
      "Epoch 100/120\n",
      "8/8 [==============================] - 0s 2ms/step - loss: 0.0183\n",
      "Epoch 101/120\n",
      "8/8 [==============================] - 0s 2ms/step - loss: 0.0184\n",
      "Epoch 102/120\n",
      "8/8 [==============================] - 0s 2ms/step - loss: 0.0184\n",
      "Epoch 103/120\n",
      "8/8 [==============================] - 0s 3ms/step - loss: 0.0183\n",
      "Epoch 104/120\n"
     ]
    },
    {
     "name": "stdout",
     "output_type": "stream",
     "text": [
      "8/8 [==============================] - 0s 2ms/step - loss: 0.0184\n",
      "Epoch 105/120\n",
      "8/8 [==============================] - 0s 2ms/step - loss: 0.0182\n",
      "Epoch 106/120\n",
      "8/8 [==============================] - 0s 2ms/step - loss: 0.0184\n",
      "Epoch 107/120\n",
      "8/8 [==============================] - 0s 2ms/step - loss: 0.0185\n",
      "Epoch 108/120\n",
      "8/8 [==============================] - 0s 2ms/step - loss: 0.0184\n",
      "Epoch 109/120\n",
      "8/8 [==============================] - 0s 2ms/step - loss: 0.0185\n",
      "Epoch 110/120\n",
      "8/8 [==============================] - 0s 2ms/step - loss: 0.0183\n",
      "Epoch 111/120\n",
      "8/8 [==============================] - 0s 2ms/step - loss: 0.0183\n",
      "Epoch 112/120\n",
      "8/8 [==============================] - 0s 2ms/step - loss: 0.0184\n",
      "Epoch 113/120\n",
      "8/8 [==============================] - 0s 2ms/step - loss: 0.0183\n",
      "Epoch 114/120\n",
      "8/8 [==============================] - 0s 7ms/step - loss: 0.0183\n",
      "Epoch 115/120\n",
      "8/8 [==============================] - 0s 2ms/step - loss: 0.0185\n",
      "Epoch 116/120\n",
      "8/8 [==============================] - 0s 2ms/step - loss: 0.0186\n",
      "Epoch 117/120\n",
      "8/8 [==============================] - 0s 2ms/step - loss: 0.0185\n",
      "Epoch 118/120\n",
      "8/8 [==============================] - 0s 2ms/step - loss: 0.0184\n",
      "Epoch 119/120\n",
      "8/8 [==============================] - 0s 2ms/step - loss: 0.0184\n",
      "Epoch 120/120\n",
      "8/8 [==============================] - 0s 2ms/step - loss: 0.0187\n"
     ]
    },
    {
     "data": {
      "text/plain": [
       "<keras.callbacks.History at 0x24891e89b80>"
      ]
     },
     "execution_count": 16,
     "metadata": {},
     "output_type": "execute_result"
    }
   ],
   "source": [
    "model = Sequential()\n",
    "model.add(Dense(4, kernel_initializer = 'uniform', activation = 'relu', input_shape=[X.shape[1]]))\n",
    "model.add(Dense(8, kernel_initializer = 'uniform', activation = 'relu'))\n",
    "model.add(Dense(1, kernel_initializer = 'uniform'))\n",
    "model.compile(optimizer = 'adam', loss='msle')\n",
    "model.fit(X_train, y_train, batch_size = 10, epochs = 120)"
   ]
  },
  {
   "cell_type": "code",
   "execution_count": 17,
   "metadata": {
    "colab": {
     "base_uri": "https://localhost:8080/"
    },
    "id": "F9s8TI_axmz4",
    "outputId": "43023151-2d39-4c33-8b2e-3fdbbd0a1e85"
   },
   "outputs": [
    {
     "name": "stdout",
     "output_type": "stream",
     "text": [
      "1/1 [==============================] - 0s 159ms/step - loss: 0.0292\n"
     ]
    }
   ],
   "source": [
    "# Loss evaluation\n",
    "test_loss = model.evaluate(X_test, y_test)"
   ]
  },
  {
   "cell_type": "code",
   "execution_count": 18,
   "metadata": {
    "colab": {
     "base_uri": "https://localhost:8080/"
    },
    "id": "N-Nu2-zuxvLG",
    "outputId": "d069768c-4b08-481a-bbb9-ecad62336882"
   },
   "outputs": [
    {
     "name": "stdout",
     "output_type": "stream",
     "text": [
      "1/1 [==============================] - 0s 136ms/step\n",
      "Predicted: 1.152\n"
     ]
    }
   ],
   "source": [
    "# Trying a new prediction[water level, intensity]\n",
    "prediction =  [10.2, 3.0]\n",
    "pred = model.predict([prediction])\n",
    "print('Predicted: %.3f' % pred)\n",
    "\n",
    "# Test with water level = 10cm and intensity of none which is 0.0, got 0% chance of flood.\n",
    "# Test with water level = 10cm and intensity of light which is 1.0, got 20% chance of flood.\n",
    "# Test with water level = 10cm and intensity of moderate which is 2.0, got 63% chance of flood.\n",
    "# Test with water level = 10cm and intensity of heavy which is 3.0, got 100% chance of flood."
   ]
  },
  {
   "cell_type": "markdown",
   "metadata": {
    "id": "6NGLxHe7Kj38"
   },
   "source": [
    "**TRYING TO UPDATE REAL-TIME THROUGH THE USAGE OF THINGSPEAK API (RESTFUL)**"
   ]
  },
  {
   "cell_type": "code",
   "execution_count": 19,
   "metadata": {
    "colab": {
     "base_uri": "https://localhost:8080/"
    },
    "id": "AxiZe7H3Kp5n",
    "outputId": "7321936a-2647-41ba-896a-a47bd4d24181"
   },
   "outputs": [
    {
     "name": "stdout",
     "output_type": "stream",
     "text": [
      "https://api.thingspeak.com/channels/2135773/feeds.json?api_key=5ISF03WS3CO2HYSD&results=2\n",
      "Request returned 200 : 'OK'\n"
     ]
    }
   ],
   "source": [
    "import requests\n",
    "url = ('https://api.thingspeak.com/channels/2135773/feeds.json?api_key=5ISF03WS3CO2HYSD&results=2')\n",
    "print(url)\n",
    "\n",
    "# Print status code (and associated text)\n",
    "response = requests.get(url)\n",
    "print(f\"Request returned {response.status_code} : '{response.reason}'\")"
   ]
  },
  {
   "cell_type": "code",
   "execution_count": 20,
   "metadata": {
    "id": "m1ecUGTHiKSs",
    "scrolled": true
   },
   "outputs": [
    {
     "name": "stdout",
     "output_type": "stream",
     "text": [
      "Last updated water level: \n",
      "\n",
      "17.66300\n"
     ]
    }
   ],
   "source": [
    "msg=requests.get(url)\n",
    "msg=msg.json()['feeds'][-1]['field2']\n",
    "print(\"Last updated water level: \\n\\n\"+str(msg))"
   ]
  },
  {
   "cell_type": "code",
   "execution_count": 21,
   "metadata": {
    "colab": {
     "base_uri": "https://localhost:8080/"
    },
    "id": "EZfgAMNui3vk",
    "outputId": "dc6c497b-67f6-4d96-cbfe-84e4faae9870",
    "scrolled": true
   },
   "outputs": [
    {
     "name": "stdout",
     "output_type": "stream",
     "text": [
      "1/1 [==============================] - 0s 92ms/step\n",
      "Flood Probability: 72 %\n"
     ]
    }
   ],
   "source": [
    "# Trying a new prediction through Thingspeak API[water level, intensity]\n",
    "level = float(msg)\n",
    "prediction =  [level, 3.0]\n",
    "pred = model.predict([prediction])\n",
    "pred_int = int(pred*100)\n",
    "print('Flood Probability:', pred_int,'%')"
   ]
  },
  {
   "cell_type": "code",
   "execution_count": 22,
   "metadata": {
    "scrolled": true
   },
   "outputs": [
    {
     "name": "stdout",
     "output_type": "stream",
     "text": [
      "Saved model to disk\n"
     ]
    }
   ],
   "source": [
    "# Saving the model\n",
    "model.save(\"model.h5\")\n",
    "print(\"Saved model to disk\")"
   ]
  },
  {
   "cell_type": "code",
   "execution_count": null,
   "metadata": {},
   "outputs": [],
   "source": []
  }
 ],
 "metadata": {
  "colab": {
   "provenance": []
  },
  "kernelspec": {
   "display_name": "Python 3 (ipykernel)",
   "language": "python",
   "name": "python3"
  },
  "language_info": {
   "codemirror_mode": {
    "name": "ipython",
    "version": 3
   },
   "file_extension": ".py",
   "mimetype": "text/x-python",
   "name": "python",
   "nbconvert_exporter": "python",
   "pygments_lexer": "ipython3",
   "version": "3.8.0"
  }
 },
 "nbformat": 4,
 "nbformat_minor": 1
}
